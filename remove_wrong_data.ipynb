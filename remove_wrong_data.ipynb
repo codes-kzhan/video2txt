{
 "cells": [
  {
   "cell_type": "code",
   "execution_count": 1,
   "metadata": {
    "collapsed": true
   },
   "outputs": [],
   "source": [
    "import sys\n",
    "import cv2\n",
    "import glob\n",
    "import os\n",
    "import numpy as np\n",
    "import pandas as pd"
   ]
  },
  {
   "cell_type": "code",
   "execution_count": 58,
   "metadata": {
    "collapsed": false
   },
   "outputs": [],
   "source": [
    "vid_cap = np.load('./data/youtube/vid_captions.npy')"
   ]
  },
  {
   "cell_type": "code",
   "execution_count": 59,
   "metadata": {
    "collapsed": false
   },
   "outputs": [
    {
     "name": "stdout",
     "output_type": "stream",
     "text": [
      "vid59\n",
      "vid94\n",
      "vid108\n",
      "vid137\n",
      "vid141\n",
      "vid150\n",
      "vid158\n",
      "vid164\n",
      "vid186\n",
      "vid240\n",
      "vid254\n",
      "vid277\n",
      "vid289\n",
      "vid306\n",
      "vid310\n",
      "vid371\n",
      "vid372\n",
      "vid373\n",
      "vid379\n",
      "vid390\n",
      "vid394\n",
      "vid405\n",
      "vid406\n",
      "vid431\n",
      "vid442\n",
      "vid460\n",
      "vid537\n",
      "vid540\n",
      "vid541\n",
      "vid691\n",
      "vid699\n",
      "vid715\n",
      "vid722\n",
      "vid724\n",
      "vid725\n",
      "vid741\n",
      "vid748\n",
      "vid801\n",
      "vid802\n",
      "vid809\n",
      "vid810\n",
      "vid840\n",
      "vid907\n",
      "vid912\n",
      "vid975\n",
      "vid982\n",
      "vid983\n",
      "vid1001\n",
      "vid1010\n",
      "vid1026\n",
      "vid1048\n",
      "vid1058\n",
      "vid1070\n",
      "vid1076\n",
      "vid1196\n",
      "vid1202\n",
      "vid1267\n",
      "vid1301\n",
      "vid1445\n",
      "vid1446\n",
      "vid1455\n",
      "vid1458\n",
      "vid1515\n",
      "vid1605\n",
      "vid1657\n",
      "vid1690\n",
      "vid1722\n",
      "vid1724\n",
      "vid1733\n",
      "vid1746\n",
      "vid1772\n",
      "vid1787\n",
      "vid1797\n",
      "vid1821\n",
      "vid1855\n",
      "vid1868\n",
      "vid1887\n",
      "vid1892\n",
      "vid1912\n",
      "vid1917\n",
      "vid1939\n",
      "vid1962\n",
      "vid1963\n",
      "vid1964\n",
      "vid1965\n",
      "vid1966\n",
      "vid1967\n",
      "vid1968\n",
      "vid1969\n",
      "vid1970\n"
     ]
    }
   ],
   "source": [
    "for i in range(1,1971):\n",
    "    id = \"vid\"+str(i)\n",
    "    if id in vid_cap.item() :\n",
    "        #print(\"-------\" + id + \"--------\")\n",
    "        continue\n",
    "    else:\n",
    "        print(id)"
   ]
  },
  {
   "cell_type": "code",
   "execution_count": 60,
   "metadata": {
    "collapsed": false
   },
   "outputs": [],
   "source": [
    "vocab = dict()\n",
    "words = []\n",
    "for keys in vid_cap.item():\n",
    "    words.append(keys)\n",
    "    \n",
    "count = 0\n",
    "for word in words:\n",
    "    line = vid_cap.item()[word]\n",
    "    words1 = line.split(\" \")\n",
    "    for word1 in words1:\n",
    "        if word1 in vocab:\n",
    "            continue\n",
    "        else:\n",
    "            vocab[word1]=count\n",
    "            count+=1"
   ]
  },
  {
   "cell_type": "code",
   "execution_count": 61,
   "metadata": {
    "collapsed": false
   },
   "outputs": [
    {
     "name": "stdout",
     "output_type": "stream",
     "text": [
      "{'': 648, 'yellow': 71, 'woods': 875, 'sleep': 869, 'hanging': 838, 'chili': 646, 'marching': 1381, 'trolley': 1902, 'feeding': 1549, 'swam': 1355, 'marinating': 1757, 'bike': 144, 'under': 63, 'shaving': 1320, 'vase': 450, 'figs': 1633, 'fingers,': 1333, 'baking': 783, 'motorcyclist': 997, 'wooden': 614, 'nursery': 1348, 'math': 1860, 'uncooked': 1898, 'clothes': 1408, 'chew': 1613, 'bicycle': 1874, 'tired': 617, 'railing': 1801, 'bacon': 1334, 'chef': 504, 'street': 440, 'sink!': 827, 'panda': 820, 'blue': 390, 'sesame': 280, 'rice-a-roni': 640, 'cooking': 273, 'fingers': 694, 'lights': 1769, 'above': 1431, 'beater': 1521, 'new': 103, 'pawed': 1560, 'kicked': 570, 'reporter': 1153, 'pancakes': 1222, 'men': 316, 'stared': 1711, 'drew': 982, 'herd': 1935, 'reported': 1154, 'studio': 1963, 'path': 146, 'cardboard': 1361, 'dry': 905, 'kids': 154, 'leaves': 813, 'climbed': 395, 'mantis': 1619, 'smoke': 1594, \"someone's\": 778, 'eyebrows': 673, 'slices': 561, 'straw': 1021, 'explained': 1985, 'replace': 1378, 'brought': 338, 'plow': 1387, 'spoke': 1742, 'alligator': 53, 'watering': 995, 'arms': 556, 'music': 575, 'twirled': 1304, 'type': 306, 'is': 49, 'meowed': 804, 'vacuums': 373, 'training': 1693, 'pierced': 1933, 'glass': 455, 'connecticut': 1158, 'hole': 1248, 'room': 980, 'work': 1243, 'gasoline': 1614, 'roof': 1703, 'catch!': 1866, 'crackers': 1745, 'root': 1034, 'shook': 825, 'vodka': 1546, 'give': 716, 'dolphin': 994, 'dragons': 100, 'facade': 1720, 'want': 161, 'times': 1822, 'acrobatic': 1582, 'ceremony': 1804, 'end': 1354, 'drummed': 862, 'sitting': 398, 'machine': 369, 'how': 475, 'hot': 624, 'cheetah': 857, 'beach': 234, 'pizza': 466, 'lad': 1961, 'after': 609, 'whittle': 1228, 'jumping': 269, 'floated': 891, 'gravy': 1660, 'purchase': 1622, 'third': 1084, 'daredevil': 1688, 'green': 986, 'dribled': 744, 'keeps': 1362, 'first': 1702, 'wind': 1998, 'hedgehog': 717, 'office': 1533, 'deck': 108, 'over': 238, 'oven': 44, 'keyboard': 680, 'before': 1706, 'fit': 664, 'writing': 262, 'then': 548, 'them': 550, 'safe': 861, 'slicing': 93, 'band': 1380, 'tentacle': 1005, 'giraffe': 937, 'they': 1654, 'bank': 1948, 'bread': 36, 'shadows': 1744, 'several': 1821, 'meat': 116, 'thyme': 781, 'potatoes': 321, 'lucy': 984, 'rocks': 1776, 'choir': 543, 'filling': 1347, 'each': 61, 'hurdle': 239, 'went': 67, 'side': 1564, 'lifted': 54, 'logs': 913, 'strips': 1069, 'lifter': 1224, 'double-decker': 1338, 'message': 1544, 'cantalopue': 1572, 'burlap': 1907, 'driving': 806, 'cameras': 567, 'washed': 745, 'laid': 1951, 'medicine': 1448, 'got': 1146, 'forth': 770, 'sliding': 602, 'foundation': 1035, 'splashed': 1950, 'rehearsed': 1130, 'ambled': 1527, 'given': 1466, 'pumpkins': 460, \"people's\": 1784, 'sheet': 1191, 'greeted': 1946, 'swimming': 1670, 'aisle': 1415, 'ate': 181, 'created': 1197, 'starts': 706, 'steward': 768, 'licked': 138, 'soda': 134, 'moving': 1128, 'onto': 218, 'bite': 841, 'chopped': 320, 'rand': 343, 'already': 1966, 'chased': 300, 'playfully': 1734, 'thrown': 1960, 'shopped': 16, 'lettuce': 785, 'another': 593, 'scissors': 425, 'thick': 1593, 'electronic': 697, 'toy': 448, 'top': 270, 'girls': 296, 'boating': 1904, 'legs': 1565, 'dogs': 482, 'toe': 835, 'ceiling': 335, 'stuffed': 720, 'tool': 1076, 'took': 126, 'cereal': 1079, 'practiced': 1342, 'somone': 1539, 'brushed': 433, 'nail': 578, 'target': 441, 'showed': 535, 'bookshelves': 1516, 'leg!': 1211, 'handcuffs': 76, 'tree': 461, 'board': 659, 'seated': 1717, 'dog!': 1322, 'shower': 180, 'skimmed': 700, 'bridge': 629, 'donkey': 1388, 'ran': 420, 'ginger': 1109, 'raw': 345, 'seed': 281, 'push-ups': 514, 'paramedics': 337, 'poms': 1182, 'snow': 603, 'snuggled': 1760, 'racers': 1189, 'chess': 1230, 'laughed': 635, 'rides': 1286, 'rider': 236, 'circles': 402, \"girl's\": 39, 'zebras': 1115, 'mouth': 444, 'exercises': 368, 'dummy': 206, 'door,': 2008, 'duckling': 1634, 'guiter': 1259, 'dog': 7, 'pineapple': 94, 'dow': 1855, 'came': 1064, 'beaten': 1518, 'wrung': 1214, 'chewed': 787, 'enjoyed': 1894, 'sharks': 810, \"baby's\": 1216, 'sugar': 960, 'celery': 315, 'bush': 1491, 'touched': 52, 'folder': 1198, 'rice': 410, 'goalie': 924, 'wearing': 709, 'do': 476, 'mixture': 854, 'sunglasses': 1267, 'flowerettes': 1827, 'watch': 1684, 'patted': 1678, 'watermelon': 684, 'supplies': 18, 'frying': 963, 'net': 1753, 'bat': 1451, 'bar': 1640, 'greens': 565, 'fields': 1514, 'pretzel': 1922, 'bag': 775, 'three-legged': 1292, 'grilled': 1934, 'automatic': 1031, 'bak': 443, 'scrubbed': 1446, 'blew': 739, 'swept': 613, 'antifreeze': 1691, 'cattle': 1272, 'noodles': 828, 'hammer': 868, 'mascara': 1474, 'away': 97, 'shaved': 1732, 'mud': 1133, 'finger': 867, 'pets': 762, 'yogurt': 1463, 'baboon': 626, 'pirate': 1741, 'we': 807, 'rolled': 24, 'smelled': 1955, 'toothbrush': 1663, 'strainer,': 1825, \"dogg's\": 1775, 'news': 290, 'convertible': 66, 'roller': 1100, 'kitchen': 639, 'received': 691, 'flooring': 1615, 'cow': 1280, 'strummed': 156, 'country': 1231, 'against': 1095, 'players': 1590, 'cob': 1470, 'asked': 1464, 'peacefully': 1551, 'sak': 1532, 'garnishing': 1605, 'had': 663, 'cobble': 1695, 'towels': 1559, 'blending': 1194, 'tony': 1192, 'loaded': 1896, 'contestants': 1461, 'bathroom': 1600, 'skidded': 1014, 'startles': 1973, 'puts': 728, 'bikinis': 48, 'three': 99, 'tiny': 1482, 'chiseling': 166, 'startled': 1218, 'fry': 948, 'threw': 28, 'spit': 1134, 'attacked': 942, 'pecked': 1910, 'lift': 1007, 'child': 1260, 'catch': 534, 'worked': 656, 'applied': 244, 'air': 365, 'near': 488, 'melted': 834, 'cracked': 507, 'balance': 1235, 'pyramid': 1033, 'played': 123, 'broth': 358, 'sushi': 1611, 'it': 25, 'player': 499, 'buttering': 748, 'in': 11, 'faked': 1161, 'violin': 815, 'mouse': 304, 'if': 1068, 'containing': 1829, 'bottles': 497, 'perform': 170, 'make': 1567, 'beside': 1395, 'patient': 339, 'split': 1778, 'vegetable': 596, 'sat': 264, 'bunny': 719, 'wheel': 580, 'moose': 1316, 'boiled': 505, 'papaya': 1856, 'clove': 1643, 'rain': 803, 'hand': 165, 'marched': 667, 'waterfall': 1863, 'garlic': 261, 'characters': 631, 'kid': 1285, 'butter': 465, 'otters': 1213, 'kept': 758, 'ocean': 881, 'mother': 731, 'fistfight': 327, 'the': 0, 'smoked': 643, 'left': 1018, 'laptop': 313, 'sleepy': 890, 'skiff': 1368, 'rodent': 363, 'human': 1032, 'taxied': 1126, 'adding': 1885, 'sunflower': 1326, 'photographer': 1577, 'character': 983, 'spread': 523, 'teenager': 1072, 'has': 1040, 'hat': 710, 'gave': 333, 'boxed': 318, 'melting': 1665, 'breaks': 1984, 'blanching': 1374, 'background': 1364, 'cape': 711, 'shadow': 764, 'shoulder': 880, 'sliced': 129, 'performing': 204, 'pits!': 120, 'hunk': 839, 'officer': 75, 'hung': 1169, 'escaltor': 1970, 'petting': 742, 'people': 347, 'friend': 1746, 'for': 17, 'bottom': 1074, 'carts': 874, 'fox': 954, 'skateboarded': 606, 'microwave': 865, 'rhino': 1493, 'nuzzled': 730, 'treadmill': 992, 'skateboarder': 615, 'christmas': 1127, 'hanseter': 1325, 'trampoline': 322, 'peed': 1487, 'chin-up': 1439, 'firemen': 1878, 'anotehr': 1553, 'post': 1838, 'wept': 1873, 'breaded': 1683, 'banked': 1062, 'diner': 292, 'ribs': 1283, 'dinner': 182, 'octopus': 1004, 'son': 451, 'down': 69, 'juicing': 1530, 'finely': 622, 'capped': 896, 'yanni': 800, 'soy': 113, 'shoots': 392, 'frightened': 964, 'drums!': 310, 'parade': 105, 'fabric': 1982, 'tennis': 411, 'inspected': 1771, 'fight': 1254, 'stuck': 1462, 'fought': 80, \"boy's\": 599, 'way': 1185, 'beam,': 1709, 'was': 519, 'head': 140, 'stired': 1494, 'removes': 1826, 'back': 485, 'portions': 1852, 'inside': 151, 'whisked': 621, 'paprika': 1502, 'veterinarian': 494, 'teen': 295, 'sticks': 564, 'swatted': 1310, 'shimmied': 1275, 'ship': 1265, 'mole': 1246, 'crutches': 943, 'dying': 555, 'floor': 374, 'tip': 1238, 'actor': 1705, 'flood': 1233, 'setting': 566, \"mammal's\": 1658, 'holding': 903, 'roll': 1209, 'scored': 1797, 'picture': 1129, 'toad': 1237, 'juices': 1712, 'football': 1037, 'skirt': 1921, 'fell': 106, 'rolling': 1563, 'transfers': 1828, 'pizzas': 1956, 'skunk': 1968, 'phone': 902, 'sacks': 1908, 'sniffed': 364, 'flag': 1258, 'together': 329, 'jacket': 1124, 'gorilla': 308, 'rough': 1733, 'paced': 1488, 'songs': 1232, 'coach': 1747, 'broke': 623, 'dance': 111, 'rod': 1485, 'switches': 708, 'crocodile': 1669, 'ice': 136, 'skin': 247, 'trashcan': 945, 'chair': 265, 'milk': 199, 'vet': 1569, 'balles': 1372, 'seargeant': 1770, 'answered': 1046, 'brown': 409, 'string': 1148, 'kitten': 584, 'cook': 330, 'tortillas': 193, 'clouds': 1208, 'tricycle': 1038, 'did': 159, 'kneading': 588, 'posts': 98, 'gun': 416, 'guitars': 1013, 'gut': 225, 'sloths': 723, 'sidewalk': 344, 'round': 371, 'seaweed': 1496, 'pork': 1375, 'talked': 278, 'be': 1465, 'seasoning': 978, 'sign': 297, 'chopping': 521, 'dried': 893, 'eating': 382, 'targets': 647, 'drinks': 1195, 'playpen': 759, 'headset': 1554, 'peeld': 1721, 'celebrated': 101, 'falling': 1433, 'corn': 1469, 'filled': 1160, 'explosion': 1596, 'climbs': 755, 'peeled': 175, 'plucking': 1749, 'french': 946, 'water': 64, 'slow': 1875, 'baseball': 1449, 'along': 668, 'teacher': 1859, 'box': 467, 'boy': 141, 'foraged': 528, 'bot': 699, 'handrail': 1969, 'swallowed': 1288, 'angry': 746, 'pooped': 987, 'iceskates': 1780, 'live': 227, 'going': 1685, 'prey': 1385, 'frothy': 1519, 'scratched': 117, 'teased': 1915, 'club': 955, 'chocolate': 511, 'fly': 952, 'car': 95, 'cat': 137, 'soup': 362, 'drags': 1988, 'can': 360, 'violins': 1831, 'making': 323, 'meatball': 1889, 'pickle': 1135, 'performer': 1766, 'heard': 1599, 'stroke': 1748, 'chin': 1022, 'performed': 863, 'airplane': 1689, 'pink': 540, 'buttered': 941, 'discussion': 1676, 'suitcases': 1636, 'poking': 212, 'freezer': 1995, 'sword': 837, 'elephant': 326, 'pins': 1574, 'armies': 1534, 'product': 1649, 'mat': 478, 'burrowing': 1247, 'crashed': 1507, 'date': 1632, 'dove': 658, 'wagging': 399, 'lifting': 2009, 'man': 27, 'close-up': 1751, 'neck': 1765, 'liquid': 1111, 'st': 1573, 'mango': 1938, 'truck': 765, 'crept': 1697, 'african': 1061, 'basket': 394, 'wolves': 1302, 'pulled': 490, 'talk': 291, 'serving': 1679, 'shoes': 662, 'ducklings': 351, 'nitrogen': 1730, 'cuts': 34, 'cold': 1830, 'blocked': 925, 'tore': 1043, 'tending': 1513, 'police': 1173, 'curls': 1806, 'platform': 594, 'window': 1392, 'gate': 1391, 'matches': 1268, 'underneath': 988, 'lunch': 1091, 'touching': 1916, 'drilling': 966, 'half': 209, 'not': 160, 'bath': 718, 'hall': 355, 'keyboards': 801, 'bowling': 650, 'cliffs': 1065, 'turtle': 715, 'trunks': 1674, 'fired': 470, \"another's\": 1787, 'elephants': 736, 'hurried': 1055, 'goose': 1165, 'elephante': 15, 'year': 104, 'girl': 178, 'er': 657, 'living': 979, 'shown': 1841, 'container': 822, 'opened': 2, 'emerged': 790, 'shows': 733, 'cloves': 1504, 'stenograph': 1442, 'cars': 751, 'cart': 489, 'marionette': 1112, 'card': 422, 'diagram': 1986, 'underwear': 965, 'roosters': 870, 'language': 298, 'waiter': 152, 'headphones': 692, 'show!': 1511, 'place': 1092, 'pepperoni': 480, 'lay': 912, 'cheese': 6, 'flying': 1430, 'flipping': 1221, 'one': 549, 'rind': 1980, 'ring': 328, 'drove': 293, 'open': 858, 'concert': 802, 'little': 78, 'checked': 272, 'caught': 794, 'bisquit': 1713, 'plastic': 724, '2': 1298, 'fiery': 1301, 'typing': 1445, 'white': 65, 'lens': 576, 'eyes': 604, 'that': 860, 'season': 1794, 'flowers': 786, 'television': 886, 'sailing': 1078, 'notches': 431, 'karate': 1641, 'knives': 1587, 'were': 1059, 'cards': 1541, 'janitor': 1555, 'tractor': 1294, 'and': 13, 'tasted': 840, 'turned': 283, 'alley': 1672, 'voices': 1598, 'sax': 1731, 'buried': 1974, 'breakfast': 1080, 'saw': 859, 'superman': 147, 'clung': 935, 'silhouette': 349, 'terrific': 1865, 'equipment': 1578, 'animation': 1220, 'upside': 1740, 'tornado': 1215, 'falls': 1710, 'boiling': 1370, 'crochet': 1690, 'pair': 1655, 'lawn': 918, 'boys': 231, 'drive': 1204, 'sunset': 1585, 'axe': 1296, 'wine': 1887, 'salt': 1107, 'trotted': 1152, 'slope': 1739, 'perch': 158, 'walking': 352, 'shot': 415, 'show': 887, 'shoe': 1419, 'corner': 1319, 'ground': 552, 'snack': 155, 'outside': 319, 'crime': 1155, 'only': 1287, 'wood': 532, 'black': 817, 'hockey': 1761, 'robe': 933, 'get': 150, 'spraying': 1949, 'lighter': 922, 'pistol': 1967, 'skewered': 848, 'frolicking': 1653, 'artist': 981, 'ritually': 1892, 'penguins': 666, 'through': 192, 'tortilla': 276, 'where': 934, 'microphones': 1405, 'picnic': 1141, 'crumbs': 1323, 'dived': 850, 'seat': 923, 'asleep': 1434, 'parking': 1015, 'calendar': 1332, 'sport': 1300, \"cat's\": 458, 'fails': 1339, 'jumped': 237, 'behind': 530, 'chimpanzees': 1478, 'between': 1086, 'reading': 266, 'across': 607, 'cantaloupe': 1576, 'screen': 1245, 'guitar': 125, 'tub': 312, 'many': 1011, 'flipped': 1108, 'mand': 452, 'bunks': 1773, 'stretcher': 340, 'passenger': 1586, 'bricks': 1353, 'pot': 357, 'hunched': 1075, 'ants': 1525, 'pole': 110, 'pom': 1181, 'pencilling': 1460, 'twig': 1479, 'boat': 882, 'arts': 929, 'teammate': 1591, 'submerging': 670, 'stretch': 179, 'lifed': 1440, 'helicopter': 1042, 'direction': 1628, 'shopping': 1416, 'formed': 1498, 'squash': 307, 'tiger': 268, 'wake': 743, 'helcopters': 1699, 'pilot': 1782, 'stacked': 459, 'turtles': 1626, 'might': 1941, 'trick': 423, 'cast': 1341, 'electrocuted': 1754, 'squeezed': 1110, 'ventriloquist': 203, \"person's\": 1183, 'spooned': 832, 'tilling': 636, 'canoe': 690, 'soil': 637, 'rubbing': 1116, 'coffee': 427, 'sleeping': 1817, 'couples': 1977, 'punched': 2002, 'beaver': 1943, 'spoon,': 1607, 'stickers': 1799, 'floating': 1207, 'different': 1715, 'paw': 386, 'bowl': 196, 'same': 1627, 'speech': 1515, 'stepped': 721, 'pan': 201, 'sweeper': 1365, 'oil': 437, 'driver': 793, 'drives': 1085, 'driven': 1575, 'persons': 1583, 'running': 892, 'fruit': 221, 'statue': 167, 'climbing': 1719, 'cartoon': 630, 'omelette': 844, 'bicyclists': 1010, 'bottle': 1548, 'trains': 1920, 'very': 678, 'taxi': 1657, 'sprayed': 1785, 'being': 757, 'when': 760, 'dancers': 1864, 'rest': 407, 'kill': 877, 'jellyroll': 284, 'palne': 1512, 'personals': 1400, 'announcement': 1432, 'dipped': 435, 'snowboarder': 1409, 'mandolin': 1102, 'cayenne': 1000, 'instrument': 1716, 'struck': 1450, 'skier': 1738, 'movie': 1291, 'around': 353, 'read': 581, 'guitars,': 1714, 'stools': 1835, 'sumo': 1252, 'traffic': 1278, 'listening': 1426, 'vacuum': 1556, 'using': 210, 'walk': 1853, 'lady': 1, 'barbells': 1266, 'conversing': 1122, 'lightning': 1836, 'greasing': 780, 'audience': 864, 'nose': 1358, 'clay': 910, 'served': 153, 'tower': 1492, 'passionate': 797, 'stretched': 1983, 'doll': 1936, 'pickled': 1328, 'lobster': 1163, 'cowboys': 79, 'diving': 851, 'stagecoach': 1026, 'floured': 1871, 'slice': 33, 'tube': 91, 'knife': 31, 'escelator': 574, 'diced': 314, 'wheat': 714, 'business': 1729, 'nails': 260, 'combines': 1834, 'drums': 515, 'throw': 1811, 'on': 30, 'stone': 1696, 'fork,': 211, 'package': 4, 'jeep': 1467, 'beavers': 756, 'mixer': 597, 'shrimp': 847, 'chop': 525, 'stand': 1810, 'waded': 767, 'act': 1131, 'mixed': 645, 'ot': 1003, 'or': 909, 'road': 70, 'ladies': 45, 'whites': 1517, 'spreading': 464, 'authorities': 1623, 'moped': 529, 'skillet': 1223, 'jumpped': 1363, 'log': 1667, 'her': 22, 'removing': 951, 'trapeze': 1752, 'there': 1359, 'styling': 610, 'lounging': 583, 'drank': 503, 'lions': 1509, 'grated': 1369, 'lot': 1016, 'bubble': 325, 'kittens': 224, 'mammals': 220, 'buggy': 1203, 'pitcher': 135, 'tripod': 572, 'wiping': 1057, 'walkway': 1088, 'trying': 472, 'with': 81, 'pull': 846, 'applying': 1612, 'swayed': 1812, 'potato': 214, 'bucket': 1394, 'strawberry': 1930, 'bouillon': 1644, 'suitcase': 1094, 'grass': 354, 'wrestlers': 1253, 'toilet': 1914, 'oxen': 1386, 'ad': 1399, 'moved': 148, 'watches': 1616, 'an': 413, 'as': 439, 'at': 9, 'walks': 1179, 'watched': 1244, 'moves': 1138, 'cream': 1321, 'again': 1201, 'fiddler': 2000, 'rubbed': 1447, 'field': 713, 'call!': 1913, 'you': 538, 'harp': 1009, 'pupply': 1436, 'paddy': 1499, 'polar': 600, 'separate': 1843, 'students': 2004, 'peas': 1646, 'waving': 1178, 'podium': 1997, 'track': 753, 'poodle': 342, 'mechanical': 695, 'dunked': 1820, 'sneeze': 1217, 'pool': 660, 'lipstick': 1472, 'building': 1210, 'remote': 1687, 'sewed': 1981, 'ladles': 962, 'tricks': 447, 'cored': 518, 'stroller': 1937, 'sword,': 1071, 'starting': 1190, 'all': 492, 'lapped': 788, 'skeleton': 205, 'chinese': 102, 'dollar': 1429, 'dish': 43, 'children': 999, 'carpet': 1077, 'preserves': 277, 'tv': 84, 'foured': 21, 'to': 32, 'tail': 400, 'shredding': 1411, 'chewing': 1284, 'th': 927, 'te': 1707, 'washroom': 1121, 'woman': 202, 'song': 299, 'far': 605, 'screwdriver': 1833, 'fat': 249, 'fan': 1592, 'clench': 1798, 'bubbles': 1927, 'washing': 1990, 'marinading': 831, 'large': 324, 'sang': 228, 'sand': 240, 'small': 481, 'mammal': 527, 'liquidized': 976, 'vanilla': 1382, 'teh': 1357, 'fence': 843, 'tea': 1723, 'skiing': 1089, 'sync': 1756, 'past': 1476, 'bicyle': 1435, 'stood': 1823, 'crust': 1925, 'suv': 1589, 'nurse': 1227, 'racing': 1103, 'guns': 471, 'movement': 809, 'recruits': 1772, 'leaping': 712, 'surfer': 1096, 'newspaper': 267, 'tracks': 1120, 'trunk': 1637, 'surfed': 1097, 'knife,': 559, 'colored': 1371, 'cucumbers': 130, 'soldier': 469, 'airport': 1168, 'hamster': 771, 'peanut': 1929, 'narrow': 1390, 'trainer': 176, 'followed': 737, 'put': 42, 'chunky': 361, 'toys': 894, 'pulls': 970, 'select': 1162, 'barked': 1588, 'eye': 245, 'takes': 397, 'wiped': 1792, 'one-armed': 726, 'two': 77, 'raft': 1991, 'horses': 968, 'flat': 1379, 'door': 454, 'surgeions': 655, 'faucet': 1877, 'chimpanzee': 642, 'telephone': 1159, 'landed': 591, 'stick': 649, 'lemons': 286, 'browned': 1815, 'coyote': 1630, 'wrestled': 1318, 'grill': 219, 'equation': 1861, 'thumper': 1412, 'knocked': 1486, 'thumped': 1413, 'male': 1383, 'ded': 366, 'potatoe': 526, 'shark': 1900, 'hamburger': 959, 'synchronized': 1625, 'share': 1791, 'pushed': 638, 'numbers': 1912, 'ukelele': 430, 'cows': 1666, 'pong': 683, 'swung': 87, 'icing': 1239, 'huge': 1098, 'beef': 1758, 'court': 388, 'goal': 501, 'chops': 651, 'comfort': 676, 'shipped': 1552, 'quesadilla': 271, 'stir': 853, 'goat': 242, 'waved': 14, 'sandwich': 774, 'tried': 302, 'plane': 1142, 'waves': 1802, 'wave': 1099, 'plank': 1307, 'a': 3, 'short': 1561, 'egs': 508, 'racetrack': 1398, 'dragon': 424, 'shore': 1803, 'egg': 346, 'playing': 233, 'patio': 463, 'rifles': 1793, 'help': 162, 'held': 554, 'paper': 51, 'dough': 23, 'wheelies': 1890, 'its': 235, 'talking': 83, 'comedic': 1505, 'peanuts': 985, 'soccer': 498, 'sauce': 114, 'dolls': 1781, 'someone': 37, 'racoons': 1427, 'food': 200, 'sucker': 376, 'petted': 971, 'cupcake': 1180, 'underground': 1019, 'foot': 1414, 'bigger': 187, 'stopped': 777, 'heavy': 55, 'weight': 57, 'house': 301, 'fish': 58, 'foxes': 1957, 'finish': 1610, 'braided': 957, 'steered': 1344, 'flower': 1726, 'missed': 1345, 'surrounded': 1303, 'fountain': 1620, 'hill': 421, 'highway': 1175, 'dirt': 520, 'team': 391, 'dune': 1202, 'basketball': 387, 'members': 1895, 'skewer': 845, 'backed': 96, 'bushes': 1603, 'bumped': 59, 'dribbled': 1664, 'lemur': 1240, \"car's\": 1255, 'bumper': 766, 'heartbeat': 1571, 'castle': 241, 'fallen': 1041, 'feed': 303, 'thereafter': 563, 'traveled': 1119, 'feet': 1455, 'cups': 632, 'cupt': 1819, 'horse': 197, 'heads': 1117, 'jet': 590, 'leading': 542, 'station': 805, 'passed': 73, 'sward': 251, 'banana': 732, 'store': 20, 'selling': 1648, 'storm': 1999, 'stire': 1872, 'exploded': 142, 'hotel': 586, 'park': 473, 'interviewed': 1884, 'tomatoe': 29, 'rifle': 823, 'stairs': 396, 'stirs': 1807, 'king': 1708, 'grey': 546, 'recording': 1962, 'tummy': 1438, 'toward': 1025, 'chipmunk': 1550, 'pedestrian': 1087, 'torilla': 275, 'cleaned': 226, 'backseat': 1256, 'lid': 830, 'mountain': 897, 'speaking': 1566, 'dancing': 185, 'cave': 258, 'couch': 405, 'lit': 1809, 'rowed': 1249, 'pacifer': 1624, 'gym': 442, 'play': 189, 'added': 198, 'electric': 749, 'eggs': 378, 'flute': 741, 'salmon': 1993, 'sausage': 1886, 'cigarette': 644, 'weigts': 1441, 'machete': 1789, 'engagements': 1978, 'measured': 818, 'soared': 1143, 'clear': 1340, 'drifts': 1051, 'traditional': 171, 'clean': 1725, 'barrel': 509, 'dragged': 878, 'lying': 484, 'gold': 763, 'blended': 907, 'lengthwise': 1200, 'barbell': 56, 'hillside': 1205, 'lotioned': 1236, 'carrie': 1402, 'flicked': 921, 'blender': 681, 'cried': 1918, 'grazed': 1854, 'crawl': 1651, 'scooter': 483, 'circle': 510, 'scooted': 1314, 'porcupine': 1659, 'his': 124, 'hit': 866, 'distance': 852, 'slithered': 873, 'trees': 1377, 'ferret': 872, 'hid': 462, 'pretending': 109, 'reporters': 1156, 'him': 677, 'motorcycles': 1397, 'paddling': 689, 'witha': 1403, 'oxi': 1724, 'river': 1250, 'nibbled': 1468, 'wrote': 1196, 'orca': 1289, 'set': 1225, 'ping-pong': 1536, 'vine': 1274, 'choreographed': 1768, 'lion': 1187, 'are': 232, 'sea': 811, 'overboard': 1053, 'close': 917, 'arm': 119, 'pictures': 1329, 'slapped': 1132, 'woodchuck': 1700, 'burned': 1558, 'go-go': 1330, 'makeup': 672, 'pagoda': 1805, 'spray': 569, 'both': 1849, 'cubes': 1645, 'folding': 50, 'restaurant': 1150, 'automatice': 1917, 'eggplant': 562, 'boxers': 885, 'bench,': 1662, 'whole': 1503, 'patty': 1495, 'load': 1312, 'loaf': 541, 'danced': 46, 'bell': 516, 'recycling': 776, 'dancer': 1331, 'church': 1580, 'shish-kabobs': 254, 'dug': 1581, 'hitting': 1839, 'dropping': 128, 'peppers': 1271, 'woke': 702, 'raced': 752, 'squirrel': 401, 'fire': 568, \"what's\": 734, 'gas': 557, 'leash,': 1987, 'plants': 996, 'handling': 1786, 'fur': 856, 'look': 1351, 'juice': 133, 'balloons': 1030, 'straight': 1547, 'rope': 336, 'while': 82, 'pressed': 612, 'kissing': 1324, 'guide': 1905, 'pound': 577, 'itself': 1063, 'ready': 782, 'quail': 1899, 'chase': 1174, 'funny': 1149, 'butcher': 1366, 'peoples': 1137, \"jack-o-lantern's\": 1736, 'used': 524, 'rabit': 1023, 'ballerina': 1832, 'cement': 1522, 'cucumber': 131, 'cleaning': 453, 'dark': 1788, 'noodle': 931, 'cheek': 1036, 'chickens': 1656, 'person': 92, 'edge': 1444, 'strobe': 1795, 'bounced': 1176, 'lobsters': 1164, 'mom': 2007, 'quarters': 1044, 'mob': 1858, 'praying': 1618, 'cut': 90, 'cup': 940, 'pier': 1903, 'workers': 687, 'exercising': 993, 'sprinted': 1609, 'bin': 725, 'radiator': 1692, 'big': 654, 'couple': 163, 'doghouse,': 1629, 'game': 191, 'towel': 950, 'bit': 773, 'pillar': 688, 'sofa': 2003, 'bamboo': 1212, 'cones': 1306, 'some': 35, 'yelled!': 522, 'martial': 928, 'bouncy': 1422, 'palm': 1668, 'mirror': 12, 'curious': 698, 'sauces': 975, 'saucer': 789, 'pet': 1638, 'pew': 1579, 'quickly': 679, 'pen': 939, 'laughing': 1081, 'lounged': 438, 'cameraman': 969, 'run': 348, 'jumps': 551, 'stem': 173, 'step': 545, 'volleyballs': 1840, 'by': 74, 'wildlife': 1510, 'puppie': 769, 'orangatan': 1406, 'firing': 1842, 'straightened': 2005, 'piled': 1671, 'beans': 1002, 'wrinkled': 1136, 'block': 408, 'into': 60, 'tofu': 1814, 'downhill': 1989, \"washington's\": 1428, 'opend': 359, 'sock': 1540, 'long': 740, 'refrigerator': 222, 'bridesmaids': 1722, 'suit': 1489, 'himself': 10, 'driverless': 68, 't-shirt': 537, 'cloth': 1125, 'filed': 259, 'line': 816, 'penguin': 1048, 'fries': 947, 'up': 253, 'us': 536, 'fried': 436, 'recognition': 1947, 'yelled': 449, 'camp': 1906, 'stripped': 1407, 'scavenging': 1526, 'curb': 1083, 'home': 1020, 'rally': 1800, 'emanates': 1595, 'lemon': 1777, 'rains': 1677, 'fixing': 341, 'nap': 799, 'circl': 1862, 'actors': 1743, 'parakeet': 1909, 'panday': 729, 'pandas': 496, 'brushing': 1050, 'robots': 1790, 'prepared': 38, 'helping': 1039, 'smiled': 1151, 'sides': 1850, 'land': 1701, 'cooker': 1501, 'strolled': 1953, 'holes': 213, 'walked': 164, 'attacking': 1241, 'cooked': 285, 'weights': 879, 'presenting': 288, 'having': 1867, 'totem': 1523, 'weatherman': 287, 'seemed': 633, 'mimes': 1506, 'skiied': 1410, 'young': 168, 'mowed': 991, 'garden': 1309, 'huddled': 493, 'leattuce': 1824, 'putting': 1188, 'mixing': 919, 'drinking': 1545, 'stiff': 1520, 'hoed': 1704, 'race': 750, 'rack': 1281, 'squezzed': 1471, 'giggled': 404, 'climed': 1457, 'thinly': 560, 'boots': 426, 'jump': 1105, 'blowing': 1401, 'video': 705, 'picked': 479, 'marinade': 826, 'assembly': 1923, 'spaghetti': 824, 'index': 1484, 'twine': 1557, 'plays': 384, 'vampire': 1263, \"man's\": 693, 'waiting': 1601, 'indian': 172, 'sang,': 1459, 'bird': 157, 'exercise': 477, 'led': 1172, 'leg': 367, 'kangaroo': 1992, 'packing': 1635, 'let': 779, 'sink': 456, 'pancake': 216, 'others': 1384, 'tires': 1295, 'derby': 1101, 'spices': 1945, 'makes': 914, 'apple': 1226, 'folded': 207, 'scaled': 184, 'bungalow,': 1597, 'motor': 1602, 'walruses': 1528, 'nibbling': 900, 'singing': 641, 'galloped': 1926, 'ape': 309, 'standing': 487, 'strapped': 1049, 'fed': 495, 'from': 88, 'zip': 1869, 'frog': 1477, 'next': 938, 'camera': 571, 'vehicle': 1883, 'themselves': 1673, 'hiding': 1846, 'pencil': 1229, 'popped': 1029, 'started': 1996, 'rode': 143, 'dripping': 1876, 'trail': 1186, 'train': 72, 'couch,': 1458, 'rabbit': 958, 'baby': 618, 'dicing': 412, 'tearing': 1975, 'women': 169, 'customer': 1490, 'numchuks': 1140, 'balls': 1070, 'animals': 491, 'salad': 1006, 'drawer': 1847, 'this': 1219, 'refigerator': 1058, 'ride': 334, 'stations': 1686, 'crossed': 1538, 'thin': 652, 'drill': 1944, 'of': 5, 'drops': 573, 'water,': 1965, 'control': 1844, 'slid': 1257, 'tap': 901, 'mowing': 990, 'ferrets': 544, 'lock': 1870, 'halloween': 703, 'lizard': 1293, 'pieces': 1106, 'high': 1024, 'carrot': 669, 'something': 796, 'paws': 506, 'onions': 115, 'curving': 294, 'shuffled': 1542, 'sit': 1661, 'trumpet': 533, 'boxing': 1584, 'toddled': 1818, 'tightrope': 1767, 'lamp': 1837, 'forest': 145, 'animal': 784, 'toddler': 403, 'meditated': 908, 'contraption': 372, 'skated': 616, 'buildings': 1454, 'blocks': 149, 'peeling': 332, 'waters': 1234, 'tied': 661, 'sip': 127, 'hawk': 1193, 'tomato': 1737, 'chasing': 186, 'light': 1796, 'counter': 383, 'liner': 246, 'crawling': 1848, 'necklace': 1845, 'batter': 217, 'lined': 252, 'antelope': 625, 'ping': 682, 'move': 634, 'haki': 1531, 'hugged': 916, 'gunman': 531, 'motorcycle': 429, 'bunch': 1251, 'decal': 539, 'orange': 132, 'covered': 1090, 'image': 812, 'tickled': 1373, 'flour': 434, 'skates': 1305, 'flew': 417, 'cutting': 41, 'snake': 305, 'kiss': 798, 'hands': 814, 'front': 895, 'penquin': 1047, 'cage': 747, 'screamed': 1054, 'slide': 1199, 'fiddle': 2001, 'sneezes': 1972, 'tray': 255, 'glasses': 904, 'ankles': 819, 'doing': 446, 'books': 961, 'special': 1879, 'out': 26, 'twice': 1759, 'playground': 1453, 'dive': 1964, 'red': 375, 'shut': 1958, 'umbrella': 1206, 'approached': 876, 'pours': 1816, 'book,': 1045, \"phone's\": 1911, 'backwards': 1315, 'yard': 243, 'wagged': 1437, 'skateboard': 989, 'keep': 871, 'conversation': 1868, 'pigs': 1170, 'pudding': 1277, 'south': 1060, 'spilt': 1123, 'scene': 707, 'reaches': 761, 'bonnet': 1851, 'puppet': 701, 'owner': 1396, 'monkey': 86, 'bears': 821, 'pots': 911, 'wrapper': 1497, 'inmate': 727, 'their': 47, 'cats': 842, 'motorcyle': 1027, 'wrapped': 406, 'stomach': 1114, 'gear': 1762, 'shelf': 547, 'shallow': 1901, 'herself': 1352, 'steel': 1337, 'photograph': 1718, 'see': 808, 'bed': 587, 'seeweed': 1313, 'carrots': 331, 'teenagers': 1104, 'have': 1675, 'microphone': 230, 'sprinkler': 1317, 'dishes': 1262, 'able': 1942, 'pushups': 1443, 'mix': 906, 'sprinkled': 274, 'so': 1940, 'seasonings': 1335, 'blades': 1171, 'tapir': 1774, 'clash': 1535, 'passionately': 257, 'who': 675, 'petals': 1728, 'cracking': 1647, 'prisoner': 1052, 'class': 1891, 'face': 754, 'looked': 8, 'scrambled': 377, 'guinea': 898, 'summersaults': 1421, 'kite': 418, 'stove': 1066, 'bathing': 1857, 'bikes': 1012, 'parked': 1082, 'bedroom': 665, 'chicken': 248, 'roomba': 792, 'tire': 1028, 'eat': 1529, 'sunflowers': 1928, 'riding': 445, 'piano': 385, 'spun': 370, 'listened': 1570, 'watching': 889, 'beat': 1642, 'bear': 601, 'bean': 1931, 'cubs': 486, 'shaping': 1606, 'organ': 1694, 'eyebrow': 1750, 'teams': 188, 'stuff': 195, 'she': 419, 'slimed': 2006, 'handstand': 1604, 'costume': 704, 'cat,': 1483, 'computer': 350, 'powder': 972, 'skateboarding': 920, 'butt!': 1166, 'closer': 1698, 'closet': 735, 'meatballs': 1764, 'routine': 1343, 'torpedo': 1264, 'badger': 1017, 'pants': 953, 'nudged': 1735, 'ends': 1954, 'kicking': 1346, 'gelatin': 1608, 'rinsed': 1145, 'group': 1299, 'hits': 1924, 'taking': 967, 'dogsledding': 1067, 'drug': 19, 'doorway': 1360, 'detailed': 1524, 'wall': 589, 'teasing': 1177, 'cd': 1480, 'packaging': 1270, 'table': 183, 'wyclef': 1167, 'picking': 1308, 'erased': 1242, 'pouring': 457, 'ladled': 215, 'motorbike': 1508, \"it's\": 855, 'muddy': 791, 'poured': 112, 'seasoned': 432, 'chalkboard': 263, \"lady's\": 1113, 'shimp': 849, 'bbq': 1282, 'shoulders': 1139, 'perplexed': 1389, 'lgo': 1008, 'maneuvers': 1882, 'painted': 1979, 'deer': 1537, 'kicke': 1350, 'sausages': 1888, 'mannequin': 1959, 'bull': 696, 'kicks': 500, 'smoking': 1456, 'cot': 1976, 'eyelashes': 1475, 'runway': 592, 'wild': 1376, 'bathtub': 513, 'almost': 619, 'surface': 653, 'rooster': 1808, 'helped': 177, 'swinging': 628, 'tumbled': 468, 'kissed': 256, 'member': 389, 'speaker': 1779, 'shuttle': 1279, 'tapped': 598, 'tomatoes': 379, 'pull-ups': 1639, 'ball': 393, 'drink': 579, 'broccoli': 174, 'off': 107, 'center': 1500, 'weapon': 1417, 'fighting': 250, 'drawing': 949, 'coaster': 1118, 'rocket': 1184, 'flesh': 1994, 'missle': 1423, 'fishing': 1290, 'rocked': 671, 'seductively': 627, 'panther': 608, 'sky': 1144, 'lake': 930, 'bench': 611, 'other': 62, 'combing': 1452, 'wet': 833, 'ski': 1147, 'kick': 317, 'rafter': 936, 'room,': 1425, 'crushed': 974, 'dryer': 686, 'five': 1261, 'desk': 1682, 'bullets': 1897, 'puppy': 311, 'like': 884, 'onion': 414, 'crawled': 685, 'garage': 1473, 'because': 1813, 'scared': 1621, 'village': 1893, 'hair': 40, 'star': 122, 'pogo': 883, 'kangaroom': 795, 'leaf': 772, 'jalapeno': 1273, 'does': 1420, 'dolphine': 973, 'noose': 1093, 'leader': 738, 'demonstrated': 474, 'pepper': 517, 'hose': 558, 'coated': 1367, 'dangling': 1755, 'journal': 1356, 'rock': 121, 'hitchhiking': 223, 'host': 85, 'sledge': 956, 'pasta': 380, 'paste': 1568, 'whacks': 1073, 'stage': 229, 'about': 279, 'carried': 998, 'shaking': 1783, 'introduces': 1297, 'carries': 915, 'seeds': 1327, 'puppies': 1424, 'pastries': 1269, 'goal!': 926, 'travelers': 1680, 'elephants,': 1971, 'mushrooms': 428, 'weather': 289, 'brush': 674, 'female': 1481, 'registration': 1681, 'swimmers': 1056, 'van': 977, 'vegetables': 356, 'tricky': 1881, 'cricket': 190, 'chatting': 381, 'bus': 1311, 'coke': 1919, 'but': 595, 'bun': 282, 'ear': 1939, 'bug': 1404, 'he': 888, 'made': 585, 'tossed': 1727, 'signed': 1543, 'placed': 1336, 'below': 553, 'empty': 1763, 'cello': 502, 'cake': 512, 'demonstrate': 1880, 'piece': 208, 'stirring': 1393, 'rabbits': 1652, 'intimidating': 1650, 'int': 944, 'pig': 899, 'shooting': 1157, 'balcony': 722, 'ingredients': 620, 'dressed': 932, 'workey': 1349, 'boot': 836, 'book': 582, 'branch': 89, 'kinds': 1001, 'plate': 829, 'shredded': 1276, \"monkey's\": 118, 'foil': 1952, 'cliff': 1418, 'stirred': 194, 'baker': 1562, \"dog's\": 139, 'searched': 1631, 'dominoes': 1617, 'pods': 1932}\n"
     ]
    }
   ],
   "source": [
    "print vocab"
   ]
  },
  {
   "cell_type": "code",
   "execution_count": 62,
   "metadata": {
    "collapsed": false
   },
   "outputs": [
    {
     "name": "stdout",
     "output_type": "stream",
     "text": [
      "2010\n"
     ]
    }
   ],
   "source": [
    "print len(vocab)"
   ]
  },
  {
   "cell_type": "code",
   "execution_count": 63,
   "metadata": {
    "collapsed": true
   },
   "outputs": [],
   "source": [
    "np.save('vocab.npy',vocab)"
   ]
  },
  {
   "cell_type": "code",
   "execution_count": 64,
   "metadata": {
    "collapsed": false
   },
   "outputs": [
    {
     "name": "stdout",
     "output_type": "stream",
     "text": [
      "1880\n"
     ]
    }
   ],
   "source": [
    "print len(vid_cap.item())"
   ]
  },
  {
   "cell_type": "code",
   "execution_count": null,
   "metadata": {
    "collapsed": true
   },
   "outputs": [],
   "source": []
  },
  {
   "cell_type": "code",
   "execution_count": null,
   "metadata": {
    "collapsed": true
   },
   "outputs": [],
   "source": []
  },
  {
   "cell_type": "code",
   "execution_count": null,
   "metadata": {
    "collapsed": true
   },
   "outputs": [],
   "source": []
  },
  {
   "cell_type": "code",
   "execution_count": null,
   "metadata": {
    "collapsed": true
   },
   "outputs": [],
   "source": []
  },
  {
   "cell_type": "code",
   "execution_count": null,
   "metadata": {
    "collapsed": true
   },
   "outputs": [],
   "source": []
  }
 ],
 "metadata": {
  "kernelspec": {
   "display_name": "Python 2",
   "language": "python",
   "name": "python2"
  },
  "language_info": {
   "codemirror_mode": {
    "name": "ipython",
    "version": 2
   },
   "file_extension": ".py",
   "mimetype": "text/x-python",
   "name": "python",
   "nbconvert_exporter": "python",
   "pygments_lexer": "ipython2",
   "version": "2.7.6"
  }
 },
 "nbformat": 4,
 "nbformat_minor": 2
}
